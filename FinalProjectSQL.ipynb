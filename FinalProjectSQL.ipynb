{
 "cells": [
  {
   "cell_type": "markdown",
   "metadata": {},
   "source": [
    "Using this Python notebook you will:\n",
    "Understand 3 Chicago datasets \n",
    "Load the 3 datasets into 3 tables in a Db2 database\n",
    "Execute SQL queries to answer assignment questions \n",
    "\n",
    "\n",
    "\n",
    "\n",
    "Understand the datasets\n",
    "To complete the assignment problems in this notebook you will be using three datasets that are available on the city of Chicago's Data Portal:\n",
    "Socioeconomic Indicators in Chicago\n",
    "Chicago Public Schools\n",
    "Chicago Crime Data\n",
    "1. Socioeconomic Indicators in Chicago\n",
    "This dataset contains a selection of six socioeconomic indicators of public health significance and a “hardship index,” for each Chicago community area, for the years 2008 – 2012.\n",
    "For this assignment you will use a snapshot of this dataset which can be downloaded from: https://ibm.box.com/shared/static/05c3415cbfbtfnr2fx4atenb2sd361ze.csv\n",
    "A detailed description of this dataset and the original dataset can be obtained from the Chicago Data Portal at: https://data.cityofchicago.org/Health-Human-Services/Census-Data-Selected-socioeconomic-indicators-in-C/kn9c-c2s2\n",
    "2. Chicago Public Schools\n",
    "This dataset shows all school level performance data used to create CPS School Report Cards for the 2011-2012 school year. This dataset is provided by the city of Chicago's Data Portal.\n",
    "For this assignment you will use a snapshot of this dataset which can be downloaded from: https://ibm.box.com/shared/static/f9gjvj1gjmxxzycdhplzt01qtz0s7ew7.csv\n",
    "A detailed description of this dataset and the original dataset can be obtained from the Chicago Data Portal at: https://data.cityofchicago.org/Education/Chicago-Public-Schools-Progress-Report-Cards-2011-/9xs2-f89t\n",
    "3. Chicago Crime Data\n",
    "This dataset reflects reported incidents of crime (with the exception of murders where data exists for each victim) that occurred in the City of Chicago from 2001 to present, minus the most recent seven days. \n",
    "This dataset is quite large - over 1.5GB in size with over 6.5 million rows. For the purposes of this assignment we will use a much smaller sample of this dataset which can be downloaded from: https://ibm.box.com/shared/static/svflyugsr9zbqy5bmowgswqemfpm1x7f.csv\n",
    "A detailed description of this dataset and the original dataset can be obtained from the Chicago Data Portal at: https://data.cityofchicago.org/Public-Safety/Crimes-2001-to-present/ijzp-q8t2"
   ]
  },
  {
   "cell_type": "markdown",
   "metadata": {},
   "source": [
    "Problem 1\n",
    "Find the total number of crimes recorded in the CRIME table\n",
    "\n",
    "Problem 2\n",
    "Retrieve first 10 rows from the CRIME table\n",
    "\n",
    "Problem 3\n",
    "How many crimes involve an arrest?\n",
    "\n",
    "Problem 4\n",
    "Which unique types of crimes have been recorded at GAS STATION locations?\n",
    "\n",
    "Hint: Which column lists types of crimes e.g. THEFT?\n",
    "\n",
    "Problem 5\n",
    "In the CENUS_DATA table list all Community Areas whose names start with the letter ‘B’.\n",
    "\n",
    "\n",
    "Problem 6\n",
    "Which schools in Community Areas 10 to 15 are healthy school certified?\n",
    "\n",
    "Problem 7\n",
    "What is the average school Safety Score?\n",
    "\n",
    "Problem 8\n",
    "List the top 5 Community Areas by average College Enrollment [number of students]\n",
    "\n",
    "\n",
    "Problem 9\n",
    "Use a sub-query to determine which Community Area has the least value for school Safety Score?\n",
    "\n",
    "\n",
    "Problem 10\n",
    "[Without using an explicit JOIN operator] Find the Per Capita Income of the Community Area which has a school Safety Score of 1.¶"
   ]
  },
  {
   "cell_type": "code",
   "execution_count": null,
   "metadata": {},
   "outputs": [],
   "source": []
  }
 ],
 "metadata": {
  "kernelspec": {
   "display_name": "Python 3",
   "language": "python",
   "name": "python3"
  },
  "language_info": {
   "codemirror_mode": {
    "name": "ipython",
    "version": 3
   },
   "file_extension": ".py",
   "mimetype": "text/x-python",
   "name": "python",
   "nbconvert_exporter": "python",
   "pygments_lexer": "ipython3",
   "version": "3.6.4"
  }
 },
 "nbformat": 4,
 "nbformat_minor": 2
}
